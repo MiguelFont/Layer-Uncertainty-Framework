{
 "cells": [
  {
   "cell_type": "code",
   "execution_count": 1,
   "metadata": {},
   "outputs": [
    {
     "name": "stderr",
     "output_type": "stream",
     "text": [
      "2025-02-27 09:57:34.642725: I tensorflow/core/util/port.cc:153] oneDNN custom operations are on. You may see slightly different numerical results due to floating-point round-off errors from different computation orders. To turn them off, set the environment variable `TF_ENABLE_ONEDNN_OPTS=0`.\n",
      "2025-02-27 09:57:34.994258: I tensorflow/core/platform/cpu_feature_guard.cc:210] This TensorFlow binary is optimized to use available CPU instructions in performance-critical operations.\n",
      "To enable the following instructions: AVX2 AVX_VNNI FMA, in other operations, rebuild TensorFlow with the appropriate compiler flags.\n"
     ]
    }
   ],
   "source": [
    "import numpy as np\n",
    "import keras\n",
    "import pandas as pd\n",
    "from keras import datasets\n",
    "import fexigo as fx\n",
    "import gc\n",
    "from scipy.spatial import distance as sp_distance\n",
    "\n",
    "seed = 42\n",
    "keras.utils.set_random_seed(seed)\n",
    "\n",
    "def extract_cases(k, numElements, last_element, model, X_train, y_train, X_test, y_test, df, batch_size=32):\n",
    "    elements = range(last_element+1, last_element+numElements+1)\n",
    "\n",
    "    for layer in range(len(model.layers)-1):\n",
    "        explainer = fx.FastActivationExplainer(model, X_train, n_layer=layer+1)\n",
    "        for i in range(0, len(X_test[elements]), batch_size):\n",
    "            indices, distances = explainer.explain(X_test[elements][i:i+batch_size], metric=sp_distance.braycurtis, top_k=k)\n",
    "\n",
    "            closests = [[np.argmax(y_train[i]) for i in k] for k in indices]\n",
    "            labels = [[np.unique(k, return_counts=True)] for k in closests]\n",
    "\n",
    "            probabilities = [[count/k for _,count in counts] for counts in labels]\n",
    "            entropy = [-np.sum(k * np.log(k)) for k in probabilities]\n",
    "\n",
    "            decision = [[label[np.argmax(count)] for label,count in counts][0] for counts in labels]\n",
    "\n",
    "            for i, element in enumerate(elements[i:i+batch_size]):\n",
    "                df = df._append({'layer': layer, 'element': element, 'uncertainty': entropy[i], 'decision': decision[i], 'real': np.argmax(y_test[element]),\n",
    "                                'final_prediction': np.argmax(model.predict(X_test[[element]], verbose=0))}, ignore_index=True)\n",
    "                \n",
    "            del indices, distances, closests, labels, entropy, probabilities, decision\n",
    "            gc.collect()\n",
    "        del explainer\n",
    "        gc.collect()\n",
    "\n",
    "    return df"
   ]
  },
  {
   "cell_type": "markdown",
   "metadata": {},
   "source": [
    "# MNIST"
   ]
  },
  {
   "cell_type": "code",
   "execution_count": 2,
   "metadata": {},
   "outputs": [],
   "source": [
    "(X_train, y_train), (X_test, y_test) = datasets.mnist.load_data()\n",
    "y_train = keras.utils.to_categorical(y_train, 10)\n",
    "y_test = keras.utils.to_categorical(y_test, 10)\n",
    "\n",
    "model = keras.models.load_model('models/mnist_cnn.keras')"
   ]
  },
  {
   "cell_type": "code",
   "execution_count": null,
   "metadata": {},
   "outputs": [
    {
     "name": "stdout",
     "output_type": "stream",
     "text": [
      "Last element: 9999\n"
     ]
    }
   ],
   "source": [
    "try:\n",
    "    df = pd.read_csv('case_database_mnist.csv')\n",
    "except FileNotFoundError:\n",
    "    df = pd.DataFrame(columns=['layer', 'element', 'uncertainty', 'decision', 'real', 'final_prediction'])\n",
    "\n",
    "last_element = df['element'].max() if not df.empty else -1\n",
    "last_element = int(last_element)\n",
    "print('Last element:', last_element)"
   ]
  },
  {
   "cell_type": "code",
   "execution_count": null,
   "metadata": {},
   "outputs": [
    {
     "name": "stderr",
     "output_type": "stream",
     "text": [
      "/home/miguel/.local/lib/python3.12/site-packages/keras/src/models/functional.py:225: UserWarning: The structure of `inputs` doesn't match the expected structure: ['input_layer']. Received: the structure of inputs=*\n",
      "  warnings.warn(\n",
      "/home/miguel/.local/lib/python3.12/site-packages/keras/src/models/functional.py:225: UserWarning: The structure of `inputs` doesn't match the expected structure: ['input_layer']. Received: the structure of inputs=*\n",
      "  warnings.warn(\n",
      "/home/miguel/.local/lib/python3.12/site-packages/keras/src/models/functional.py:225: UserWarning: The structure of `inputs` doesn't match the expected structure: ['input_layer']. Received: the structure of inputs=*\n",
      "  warnings.warn(\n",
      "/home/miguel/.local/lib/python3.12/site-packages/keras/src/models/functional.py:225: UserWarning: The structure of `inputs` doesn't match the expected structure: ['input_layer']. Received: the structure of inputs=*\n",
      "  warnings.warn(\n",
      "/home/miguel/.local/lib/python3.12/site-packages/keras/src/models/functional.py:225: UserWarning: The structure of `inputs` doesn't match the expected structure: ['input_layer']. Received: the structure of inputs=*\n",
      "  warnings.warn(\n",
      "/home/miguel/.local/lib/python3.12/site-packages/keras/src/models/functional.py:225: UserWarning: The structure of `inputs` doesn't match the expected structure: ['input_layer']. Received: the structure of inputs=*\n",
      "  warnings.warn(\n",
      "/home/miguel/.local/lib/python3.12/site-packages/keras/src/models/functional.py:225: UserWarning: The structure of `inputs` doesn't match the expected structure: ['input_layer']. Received: the structure of inputs=*\n",
      "  warnings.warn(\n",
      "/home/miguel/.local/lib/python3.12/site-packages/keras/src/models/functional.py:225: UserWarning: The structure of `inputs` doesn't match the expected structure: ['input_layer']. Received: the structure of inputs=*\n",
      "  warnings.warn(\n",
      "/home/miguel/.local/lib/python3.12/site-packages/keras/src/models/functional.py:225: UserWarning: The structure of `inputs` doesn't match the expected structure: ['input_layer']. Received: the structure of inputs=*\n",
      "  warnings.warn(\n",
      "/home/miguel/.local/lib/python3.12/site-packages/keras/src/models/functional.py:225: UserWarning: The structure of `inputs` doesn't match the expected structure: ['input_layer']. Received: the structure of inputs=*\n",
      "  warnings.warn(\n",
      "/home/miguel/.local/lib/python3.12/site-packages/keras/src/models/functional.py:225: UserWarning: The structure of `inputs` doesn't match the expected structure: ['input_layer']. Received: the structure of inputs=*\n",
      "  warnings.warn(\n",
      "/home/miguel/.local/lib/python3.12/site-packages/keras/src/models/functional.py:225: UserWarning: The structure of `inputs` doesn't match the expected structure: ['input_layer']. Received: the structure of inputs=*\n",
      "  warnings.warn(\n"
     ]
    }
   ],
   "source": [
    "df = extract_cases(10, 1000, last_element, model, X_train, y_train, X_test, y_test, df)"
   ]
  },
  {
   "cell_type": "code",
   "execution_count": 5,
   "metadata": {},
   "outputs": [],
   "source": [
    "df.to_csv('case_database_mnist.csv', index=False)"
   ]
  },
  {
   "cell_type": "markdown",
   "metadata": {},
   "source": [
    "# CIFAR-10"
   ]
  },
  {
   "cell_type": "code",
   "execution_count": 2,
   "metadata": {},
   "outputs": [],
   "source": [
    "(X_train, y_train), (X_test, y_test) = datasets.cifar10.load_data()\n",
    "y_train = keras.utils.to_categorical(y_train, 10)\n",
    "y_test = keras.utils.to_categorical(y_test, 10)\n",
    "\n",
    "model = keras.models.load_model('models/cifar10_cnn.keras')"
   ]
  },
  {
   "cell_type": "code",
   "execution_count": 8,
   "metadata": {},
   "outputs": [
    {
     "name": "stdout",
     "output_type": "stream",
     "text": [
      "Last element: 9999\n"
     ]
    }
   ],
   "source": [
    "try:\n",
    "    df = pd.read_csv('case_database_cifar.csv')\n",
    "except FileNotFoundError:\n",
    "    df = pd.DataFrame(columns=['layer', 'element', 'uncertainty', 'decision', 'real', 'final_prediction'])\n",
    "\n",
    "last_element = int(df['element'].max()) if not df.empty else -1\n",
    "print('Last element:', last_element)"
   ]
  },
  {
   "cell_type": "code",
   "execution_count": 5,
   "metadata": {},
   "outputs": [
    {
     "name": "stderr",
     "output_type": "stream",
     "text": [
      "/home/miguel/.local/lib/python3.12/site-packages/keras/src/models/functional.py:225: UserWarning: The structure of `inputs` doesn't match the expected structure: ['input_layer_4']. Received: the structure of inputs=*\n",
      "  warnings.warn(\n",
      "/home/miguel/.local/lib/python3.12/site-packages/keras/src/models/functional.py:225: UserWarning: The structure of `inputs` doesn't match the expected structure: ['input_layer_4']. Received: the structure of inputs=*\n",
      "  warnings.warn(\n",
      "/home/miguel/.local/lib/python3.12/site-packages/keras/src/models/functional.py:225: UserWarning: The structure of `inputs` doesn't match the expected structure: ['input_layer_4']. Received: the structure of inputs=*\n",
      "  warnings.warn(\n",
      "/home/miguel/.local/lib/python3.12/site-packages/keras/src/models/functional.py:225: UserWarning: The structure of `inputs` doesn't match the expected structure: ['input_layer_4']. Received: the structure of inputs=*\n",
      "  warnings.warn(\n",
      "/home/miguel/.local/lib/python3.12/site-packages/keras/src/models/functional.py:225: UserWarning: The structure of `inputs` doesn't match the expected structure: ['input_layer_4']. Received: the structure of inputs=*\n",
      "  warnings.warn(\n",
      "/home/miguel/.local/lib/python3.12/site-packages/keras/src/models/functional.py:225: UserWarning: The structure of `inputs` doesn't match the expected structure: ['input_layer_4']. Received: the structure of inputs=*\n",
      "  warnings.warn(\n"
     ]
    }
   ],
   "source": [
    "df = extract_cases(10, 1000, last_element, model, X_train, y_train, X_test, y_test, df)"
   ]
  },
  {
   "cell_type": "code",
   "execution_count": 26,
   "metadata": {},
   "outputs": [],
   "source": [
    "df.to_csv('case_database_cifar.csv', index=False)"
   ]
  },
  {
   "cell_type": "code",
   "execution_count": null,
   "metadata": {},
   "outputs": [],
   "source": []
  }
 ],
 "metadata": {
  "kernelspec": {
   "display_name": "base",
   "language": "python",
   "name": "python3"
  },
  "language_info": {
   "codemirror_mode": {
    "name": "ipython",
    "version": 3
   },
   "file_extension": ".py",
   "mimetype": "text/x-python",
   "name": "python",
   "nbconvert_exporter": "python",
   "pygments_lexer": "ipython3",
   "version": "3.12.4"
  }
 },
 "nbformat": 4,
 "nbformat_minor": 2
}
